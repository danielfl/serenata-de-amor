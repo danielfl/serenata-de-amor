{
 "cells": [
  {
   "cell_type": "markdown",
   "metadata": {},
   "source": [
    "# Invalid CNPJ or CPF\n",
    "\n",
    "`cnpj_cpf` is the column identifying the company or individual who received the payment made by the congressperson. Having this value empty should mean that it's an expense made outside Brazil, with a company (or person) without a Brazilian ID."
   ]
  },
  {
   "cell_type": "code",
   "execution_count": 1,
   "metadata": {
    "collapsed": false
   },
   "outputs": [
    {
     "data": {
      "text/plain": [
       "(1532491, 31)"
      ]
     },
     "execution_count": 1,
     "metadata": {},
     "output_type": "execute_result"
    }
   ],
   "source": [
    "import numpy as np\n",
    "import pandas as pd\n",
    "\n",
    "dataset = pd.read_csv('../data/2016-11-19-reimbursements.xz',\n",
    "                      dtype={'applicant_id': np.str,\n",
    "                             'cnpj_cpf': np.str,\n",
    "                             'congressperson_id': np.str,\n",
    "                             'subquota_number': np.str},\n",
    "                      low_memory=False)\n",
    "dataset.shape"
   ]
  },
  {
   "cell_type": "code",
   "execution_count": 2,
   "metadata": {
    "collapsed": false
   },
   "outputs": [],
   "source": [
    "from pycpfcnpj import cpfcnpj\n",
    "\n",
    "def validate_cnpj_cpf(cnpj_or_cpf):\n",
    "    return (cnpj_or_cpf == None) | cpfcnpj.validate(cnpj_or_cpf)\n",
    "\n",
    "\n",
    "\n",
    "cnpj_cpf_list = dataset['cnpj_cpf'].astype(np.str).replace('nan', None)\n",
    "dataset['valid_cnpj_cpf'] = np.vectorize(validate_cnpj_cpf)(cnpj_cpf_list)"
   ]
  },
  {
   "cell_type": "code",
   "execution_count": 3,
   "metadata": {
    "collapsed": false
   },
   "outputs": [
    {
     "data": {
      "text/html": [
       "<div>\n",
       "<table border=\"1\" class=\"dataframe\">\n",
       "  <thead>\n",
       "    <tr style=\"text-align: right;\">\n",
       "      <th></th>\n",
       "      <th>year</th>\n",
       "      <th>applicant_id</th>\n",
       "      <th>document_id</th>\n",
       "      <th>total_net_value</th>\n",
       "      <th>cnpj_cpf</th>\n",
       "      <th>supplier</th>\n",
       "    </tr>\n",
       "  </thead>\n",
       "  <tbody>\n",
       "    <tr>\n",
       "      <th>53466</th>\n",
       "      <td>2009</td>\n",
       "      <td>1607</td>\n",
       "      <td>1748889</td>\n",
       "      <td>123.57</td>\n",
       "      <td>11111111111</td>\n",
       "      <td>CAP HORN</td>\n",
       "    </tr>\n",
       "    <tr>\n",
       "      <th>53467</th>\n",
       "      <td>2009</td>\n",
       "      <td>1607</td>\n",
       "      <td>1748896</td>\n",
       "      <td>100.25</td>\n",
       "      <td>11111111111</td>\n",
       "      <td>CAP HORN</td>\n",
       "    </tr>\n",
       "    <tr>\n",
       "      <th>53468</th>\n",
       "      <td>2009</td>\n",
       "      <td>1607</td>\n",
       "      <td>1748909</td>\n",
       "      <td>229.25</td>\n",
       "      <td>11111111111</td>\n",
       "      <td>DENSKALDEDEKOK  RESTAURANT</td>\n",
       "    </tr>\n",
       "    <tr>\n",
       "      <th>53469</th>\n",
       "      <td>2009</td>\n",
       "      <td>1607</td>\n",
       "      <td>1748911</td>\n",
       "      <td>18.89</td>\n",
       "      <td>11111111111</td>\n",
       "      <td>BELLA CENTER</td>\n",
       "    </tr>\n",
       "    <tr>\n",
       "      <th>53470</th>\n",
       "      <td>2009</td>\n",
       "      <td>1607</td>\n",
       "      <td>1748915</td>\n",
       "      <td>581.85</td>\n",
       "      <td>11111111111</td>\n",
       "      <td>FIRST HOTEL SKT. PETRI</td>\n",
       "    </tr>\n",
       "  </tbody>\n",
       "</table>\n",
       "</div>"
      ],
      "text/plain": [
       "       year applicant_id  document_id  total_net_value     cnpj_cpf  \\\n",
       "53466  2009         1607      1748889           123.57  11111111111   \n",
       "53467  2009         1607      1748896           100.25  11111111111   \n",
       "53468  2009         1607      1748909           229.25  11111111111   \n",
       "53469  2009         1607      1748911            18.89  11111111111   \n",
       "53470  2009         1607      1748915           581.85  11111111111   \n",
       "\n",
       "                         supplier  \n",
       "53466                    CAP HORN  \n",
       "53467                    CAP HORN  \n",
       "53468  DENSKALDEDEKOK  RESTAURANT  \n",
       "53469                BELLA CENTER  \n",
       "53470      FIRST HOTEL SKT. PETRI  "
      ]
     },
     "execution_count": 3,
     "metadata": {},
     "output_type": "execute_result"
    }
   ],
   "source": [
    "keys = ['year',\n",
    "        'applicant_id',\n",
    "        'document_id',\n",
    "        'total_net_value',\n",
    "        'cnpj_cpf',\n",
    "        'supplier']\n",
    "dataset.loc[~dataset['valid_cnpj_cpf'], keys].head()"
   ]
  },
  {
   "cell_type": "markdown",
   "metadata": {},
   "source": [
    "With 1,532,491 records in the dataset and just 5 with invalid CNPJ/CPF, we can probably assume that the Chamber of Deputies has a validation in the tool where the congressperson requests for reimbursements. These represent a mistake in the implemented algorithm."
   ]
  },
  {
   "cell_type": "code",
   "execution_count": null,
   "metadata": {
    "collapsed": true
   },
   "outputs": [],
   "source": []
  }
 ],
 "metadata": {
  "kernelspec": {
   "display_name": "Python 3",
   "language": "python3",
   "name": "python3"
  },
  "language_info": {
   "codemirror_mode": {
    "name": "ipython",
    "version": 3
   },
   "file_extension": ".py",
   "mimetype": "text/x-python",
   "name": "python",
   "nbconvert_exporter": "python",
   "pygments_lexer": "ipython3",
   "version": "3.5.2"
  }
 },
 "nbformat": 4,
 "nbformat_minor": 0
}
